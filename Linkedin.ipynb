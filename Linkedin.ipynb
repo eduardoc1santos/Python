{
 "cells": [
  {
   "cell_type": "code",
   "execution_count": 2,
   "id": "1b5fbbe2",
   "metadata": {},
   "outputs": [],
   "source": [
    "from selenium import webdriver\n",
    "from selenium.webdriver.common.by import By\n",
    "import time\n",
    "lista_descricoes = []\n",
    "if __name__ == '__main__':\n",
    "    driver = webdriver.Chrome()\n",
    "    driver.implicitly_wait(10)\n",
    "    driver.maximize_window()\n",
    "    driver.get('https://www.linkedin.com/jobs/ci%C3%AAncia-de-dados-vagas/?originalSubdomain=br')\n",
    "    resultados = driver.find_elements(By.CLASS_NAME, 'base-card')\n",
    "    while True:\n",
    "        for r in resultados[len(lista_descricoes):]:\n",
    "            r.click()\n",
    "            time.sleep(1)\n",
    "            try:\n",
    "                descricao = driver.find_element(By.CLASS_NAME, 'description')\n",
    "                lista_descricoes.append(descricao.text)\n",
    "            except:\n",
    "                print('Erro')\n",
    "                pass\n",
    "        resultados = driver.find_elements(By.CLASS_NAME, 'base-card')\n",
    "        if len(lista_descricoes) == len(resultados):\n",
    "            break\n",
    "    descricao_salvar = '\\n'.join(lista_descricoes)\n",
    "    with open('descricoes_vagas.txt','w',encoding='utf-8') as f:\n",
    "        f.write(descricao_salvar)\n",
    "    driver.quit()"
   ]
  },
  {
   "cell_type": "code",
   "execution_count": null,
   "id": "8d8e7e47",
   "metadata": {},
   "outputs": [],
   "source": []
  }
 ],
 "metadata": {
  "kernelspec": {
   "display_name": "Python 3 (ipykernel)",
   "language": "python",
   "name": "python3"
  },
  "language_info": {
   "codemirror_mode": {
    "name": "ipython",
    "version": 3
   },
   "file_extension": ".py",
   "mimetype": "text/x-python",
   "name": "python",
   "nbconvert_exporter": "python",
   "pygments_lexer": "ipython3",
   "version": "3.9.7"
  }
 },
 "nbformat": 4,
 "nbformat_minor": 5
}
